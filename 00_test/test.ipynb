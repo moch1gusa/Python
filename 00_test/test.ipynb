{
 "cells": [
  {
   "cell_type": "markdown",
   "metadata": {},
   "source": [
    "git使い方メモ\n",
    "\n",
    "source control\n",
    "\n",
    "\n",
    "\n",
    "\n",
    "git remote add origin https://github.com/moch1gusa/Python.git\n",
    "実行後はローカル・リモートリポジトリ間で相互的にアップロード、ダウンロード可能\n",
    "\n",
    "\n"
   ]
  }
 ],
 "metadata": {
  "language_info": {
   "name": "python"
  }
 },
 "nbformat": 4,
 "nbformat_minor": 2
}
